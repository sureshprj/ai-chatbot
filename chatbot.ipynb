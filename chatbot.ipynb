{
 "cells": [
  {
   "cell_type": "code",
   "execution_count": 18,
   "id": "4d6929bc",
   "metadata": {},
   "outputs": [
    {
     "data": {
      "text/plain": [
       "AIMessage(content='**Cursor vs. VS\\u202fCode – A quick‑look comparison**\\n\\n| Feature | Cursor | VS\\u202fCode |\\n|---------|--------|---------|\\n| **Core** | Built on top of the VS\\u202fCode engine (Electron + Monaco) but wrapped in a custom UI layer. | Native VS\\u202fCode engine (Electron + Monaco). |\\n| **UI/UX** | • Clean, minimalistic layout with a “chat‑first” sidebar. <br>• One‑click “Open in Chat” for context‑aware AI help. <br>• Dark‑mode‑first design with fewer distractions. | • Classic VS\\u202fCode layout (Explorer, Search, Source Control, Run, Extensions). <br>• Highly configurable via settings, keybindings, and themes. |\\n| **AI Integration** | • Built‑in, always‑on AI assistant (ChatGPT‑style) that can write, explain, refactor, and even run code. <br>• AI can be triggered via a single button or automatically in the context of the file. | • AI features are available only through extensions (e.g., GitHub Copilot, Tabnine, Kite). <br>• No native chat UI; you install the extension and use its commands. |\\n| **Collaboration** | • Real‑time collaborative editing (“Cursor Live”) built‑in (similar to Google Docs). <br>• Share a link to a file or entire workspace; teammates can see your cursor, chat, and make edits. | • Collaboration via extensions (Live Share). <br>• Requires separate installation and configuration. |\\n| **Extension Ecosystem** | • Supports many VS\\u202fCode extensions but the marketplace is still growing. <br>• Some extensions may need adaptation because Cursor’s UI is different. | • Huge, mature marketplace (~30k+ extensions). <br>• Full backward compatibility with all extensions. |\\n| **Performance** | • Optimized for AI workloads; may use more memory when the AI engine is active. <br>• Generally smooth on modern laptops; performance may drop on very large monorepos. | • Lightweight by default; performance scales well with large projects. <br>• Can be tuned via settings (e.g., disabling language servers). |\\n| **Pricing** | • Free tier available. <br>• Pro tier (≈$5–$10/month) unlocks advanced AI features, more collaboration seats, priority support. | • Free & open‑source. <br>• Extensions may be paid (e.g., Copilot). |\\n| **Open‑source** | The core is open‑source, but the UI layer and AI integration are proprietary. | Fully open‑source (MIT license). |\\n| **Target Audience** | • Developers who want an AI‑first workflow out of the box. <br>• Teams that need instant collaboration without extra setup. | • Developers who need a battle‑tested, highly extensible editor. <br>• Teams that already use VS\\u202fCode ecosystem or require niche extensions. |\\n| **Learning Curve** | • Very low if you already use VS\\u202fCode (just switch the UI). <br>• AI chat can replace many commands. | • Steeper if you’re new to VS\\u202fCode but offers deep customizability. |\\n| **Typical Use‑Cases** | • Rapid prototyping, pair‑programming, AI‑assisted debugging. <br>• Small to medium teams that want a single tool for code + chat. | • Large codebases, custom tooling, integration with CI/CD pipelines. <br>• Projects that rely on specific extensions (e.g., Docker, Azure). |\\n\\n---\\n\\n### When to pick Cursor\\n\\n| Scenario | Why Cursor is a good fit |\\n|----------|--------------------------|\\n| **AI‑first coding** | The built‑in assistant can generate code, explain bugs, and even run tests without leaving the editor. |\\n| **Real‑time teamwork** | Cursor Live lets teammates edit the same file simultaneously; no extra Live Share extension needed. |\\n| **Simplicity** | If you prefer a minimal UI and don’t want to hunt for the right extension, Cursor’s single‑pane design can speed up the workflow. |\\n| **Rapid onboarding** | New team members can jump into a project and get context via the AI chat, reducing the learning curve. |\\n\\n### When to stick with VS\\u202fCode\\n\\n| Scenario | Why VS\\u202fCode is a better fit |\\n|----------|-----------------------------|\\n| **Extensive tooling** | If your stack relies on niche extensions (e.g., specific language servers, build tools, or custom linters). |\\n| **Large monorepos** | VS\\u202fCode’s performance is well‑optimized for huge codebases; Cursor may lag when AI is active. |\\n| **Open‑source & community** | If you need full control over the editor, custom keybindings, or want to contribute to the codebase. |\\n| **Enterprise integration** | VS\\u202fCode has built‑in support for many enterprise systems (Azure, GitHub Enterprise, etc.) and can be tightly integrated into existing workflows. |\\n| **Cost‑sensitivity** | VS\\u202fCode is free; while Cursor’s free tier is generous, the Pro tier can add up for larger teams. |\\n\\n---\\n\\n### Bottom line\\n\\n- **Cursor** is a *modern, AI‑centric rewrite* of VS\\u202fCode that shines when you want instant chat‑based help and live collaboration.  \\n- **VS\\u202fCode** is the *industry‑standard, battle‑tested editor* with an enormous extension ecosystem and proven performance on any scale.\\n\\nIf your team is exploring AI‑powered pair programming and wants a lightweight, out‑of‑the‑box experience, give Cursor a try. If you’re managing a complex, large‑scale project or need a highly customizable environment, VS\\u202fCode remains the safest bet.', additional_kwargs={'reasoning_content': 'The user says: \"Hello, diff between cursor vs vscode?\" They likely mean \"diff between cursor vs vscode?\" They might be asking about the difference between \"Cursor\" and \"VSCode\"? Or maybe they mean \"cursor\" vs \"vscode\"? Or \"diff\" between \"cursor\" and \"vscode\"? Maybe they are comparing two editors: Cursor (maybe a new editor from Cursor) vs VS Code. They want differences. The question: \"Hello, diff between cursor vs vscode?\" Possibly they want a comparison: Cursor vs VS Code. So I need to answer explaining differences between the new editor Cursor and VS Code. Provide features, UI, integration, pricing, performance, etc. Let\\'s produce a thorough comparison. Also mention that Cursor is a new code editor built on top of VS Code? Actually Cursor is an editor built on top of VS Code? Let\\'s research: Cursor is a new IDE by Cursor, built on top of VS Code, but with a new UI, built for AI integration. It uses open-source components. It has AI features integrated. It might have different extension ecosystem. It might have a different licensing model. Let\\'s give an overview: UI differences, AI features, performance, resource usage, integration with Git, etc. Also mention that Cursor uses the same core as VS Code (Electron) but maybe uses a different rendering engine. Also mention that Cursor may not support all VS Code extensions out of the box, but has its own extension marketplace. Also mention that VS Code is open source, free, widely used, with huge extension ecosystem. Cursor might be paid? Actually Cursor is free? The new product is free but maybe with subscription for AI features. Let\\'s mention differences. Also mention that Cursor is more focused on AI pair programming, collaboration, and chat. VS Code is more general. Also mention that Cursor uses a new UI design, less clutter, integrated chat. Also mention that Cursor is built on top of VS Code but with modifications. Also mention that Cursor may have less extension support. Also mention that Cursor may have better performance on large monorepos? Not sure. Provide a bullet list.\\n\\nAlso ask clarifying: maybe they want a diff between Cursor vs VS Code? Provide a table. Provide pros/cons. Let\\'s answer.'}, response_metadata={'token_usage': {'completion_tokens': 1680, 'prompt_tokens': 79, 'total_tokens': 1759, 'completion_time': 1.644253844, 'prompt_time': 0.00378009, 'queue_time': 0.04781804, 'total_time': 1.6480339339999999}, 'model_name': 'openai/gpt-oss-20b', 'system_fingerprint': 'fp_c5a89987dc', 'service_tier': 'on_demand', 'finish_reason': 'stop', 'logprobs': None, 'model_provider': 'groq'}, id='lc_run--efc3362c-fcb8-4aca-8f4b-fd0f7af28b01-0', usage_metadata={'input_tokens': 79, 'output_tokens': 1680, 'total_tokens': 1759})"
      ]
     },
     "execution_count": 18,
     "metadata": {},
     "output_type": "execute_result"
    }
   ],
   "source": [
    "#Initailize the LLM with Groq\n",
    "import os\n",
    "from dotenv import load_dotenv\n",
    "from langchain_groq import ChatGroq\n",
    "\n",
    "load_dotenv()  # loads environment variables from .env\n",
    "\n",
    "llm = ChatGroq(model_name=\"openai/gpt-oss-20b\", api_key=os.getenv(\"GROQ_API_KEY\"))\n",
    "\n",
    "llm.invoke(\"Hello, diff between cursor vs vscode?\")\n"
   ]
  },
  {
   "cell_type": "code",
   "execution_count": 19,
   "id": "3cfc1f44",
   "metadata": {},
   "outputs": [
    {
     "data": {
      "text/plain": [
       "AIMessage(content='Both cursor and Visual Studio Code (VSCode) are commonly used in programming environments, but they serve different functions.\\n\\n1. Cursor:\\n- The cursor is a blinking line or block that indicates the current location or position of the text input field in a document or text editor.\\n- It can be moved using the arrow keys or mouse to navigate through text, select text, or make edits.\\n- The cursor is a basic feature found in almost all text editors and word processing software.\\n- It is used for text input and manipulation within a document.\\n\\n2. Visual Studio Code (VSCode):\\n- Visual Studio Code is a powerful and feature-rich source code editor developed by Microsoft.\\n- It is highly customizable and supports a wide range of programming languages and extensions.\\n- VSCode provides advanced features such as syntax highlighting, code completion, debugging, and version control integration.\\n- It offers a more comprehensive environment for software development compared to a simple text editor like Notepad or Sublime Text.\\n- VSCode is commonly used by developers for writing and editing code, debugging, and managing project files.\\n\\nIn summary, the cursor is a basic tool for text input and manipulation within a document, while Visual Studio Code is a sophisticated source code editor with advanced features for software development.', additional_kwargs={'refusal': None}, response_metadata={'token_usage': {'completion_tokens': 252, 'prompt_tokens': 15, 'total_tokens': 267, 'completion_tokens_details': {'accepted_prediction_tokens': 0, 'audio_tokens': 0, 'reasoning_tokens': 0, 'rejected_prediction_tokens': 0}, 'prompt_tokens_details': {'audio_tokens': 0, 'cached_tokens': 0}}, 'model_provider': 'openai', 'model_name': 'gpt-3.5-turbo-0125', 'system_fingerprint': None, 'id': 'chatcmpl-CT0ceAa7l17ZOygXcIOEZlDYUkVNV', 'service_tier': 'default', 'finish_reason': 'stop', 'logprobs': None}, id='lc_run--49face6e-9ccf-4a49-a0d1-271e9f4e9007-0', usage_metadata={'input_tokens': 15, 'output_tokens': 252, 'total_tokens': 267, 'input_token_details': {'audio': 0, 'cache_read': 0}, 'output_token_details': {'audio': 0, 'reasoning': 0}})"
      ]
     },
     "execution_count": 19,
     "metadata": {},
     "output_type": "execute_result"
    }
   ],
   "source": [
    "#Initailize the LLM with OpenAI\n",
    "import os\n",
    "from dotenv import load_dotenv\n",
    "from langchain_openai import ChatOpenAI#llm creation\n",
    "load_dotenv()\n",
    "os.environ[\"OPENAI_API_KEY\"] = os.environ.get(\"OPEN_API_KEY\")\n",
    "\n",
    "#llm creation\n",
    "openAillm = ChatOpenAI(model_name=\"gpt-3.5-turbo\")\n",
    "openAillm.invoke(\"Hello, diff between cursor vs vscode?\")"
   ]
  },
  {
   "cell_type": "code",
   "execution_count": 20,
   "id": "d30e1318",
   "metadata": {},
   "outputs": [],
   "source": [
    "# define the tools\n",
    "from langchain_community.tools import WikipediaQueryRun\n",
    "from langchain_community.utilities import WikipediaAPIWrapper\n",
    "\n",
    "api_wrapper_wiki = WikipediaAPIWrapper(tool_k_results=1, doc_content_chars_max=500)\n",
    "wiki = WikipediaQueryRun(api_wrapper=api_wrapper_wiki)\n",
    "##To test run the wiki tool\n",
    "# print(wiki.invoke(\"hello world program\"))\n",
    "llm_with_tools = llm.bind_tools([wiki])"
   ]
  },
  {
   "cell_type": "code",
   "execution_count": 30,
   "id": "57905bdd",
   "metadata": {},
   "outputs": [],
   "source": [
    "#lang graph imports\n",
    "from typing_extensions import TypedDict\n",
    "from langchain_core.messages import AnyMessage ## human or ai messages\n",
    "from typing import Annotated ## for labelling the messages\n",
    "from langgraph.graph.message import add_messages ## reducers for messages\n",
    "from langgraph.graph import StateGraph, START, END\n",
    "from langgraph.prebuilt import ToolNode\n",
    "from langgraph.prebuilt import tools_condition\n",
    "from IPython.display import Image, display ## for graph visualization\n",
    "from langgraph.checkpoint.memory import MemorySaver"
   ]
  },
  {
   "cell_type": "code",
   "execution_count": 37,
   "id": "33565b78",
   "metadata": {},
   "outputs": [
    {
     "data": {
      "image/png": "[encoded data removed]",
      "text/plain": [
       "<IPython.core.display.Image object>"
      ]
     },
     "metadata": {},
     "output_type": "display_data"
    }
   ],
   "source": [
    "## lang graph initializ\n",
    "\n",
    "## langgraph state creation\n",
    "class State(TypedDict):\n",
    "    messages: Annotated[list[AnyMessage], add_messages] \n",
    "\n",
    "## Node creation\n",
    "def llm_node(state: State) -> State:\n",
    "    return {\"messages\": [llm_with_tools.invoke(state[\"messages\"])]}\n",
    "\n",
    "## graph creation\n",
    "graph_builder = StateGraph(State)\n",
    "\n",
    "# add nodes to the graph\n",
    "graph_builder.add_node(\"llm\", llm_node)\n",
    "graph_builder.add_node(\"tools\", ToolNode(tools=[wiki]))\n",
    "\n",
    "# add edges to the graph\n",
    "graph_builder.add_edge(START, \"llm\")\n",
    "graph_builder.add_conditional_edges(\n",
    "    \"llm\",\n",
    "    tools_condition,\n",
    "    {\n",
    "        \"tools\": \"tools\",\n",
    "        \"__end__\": END\n",
    "    }\n",
    ")\n",
    "graph_builder.add_edge(\"tools\", \"llm\")\n",
    "\n",
    "## by default the memory will be shared in only one session (starting the graph => end graph)\n",
    "#graph = graph_builder.compile()\n",
    "\n",
    "# to make the memory across the sessions need (memory = MemorySaver())\n",
    "memory = MemorySaver()\n",
    "graph = graph_builder.compile(memory)\n",
    "\n",
    "#View the graph\n",
    "display(Image(graph.get_graph().draw_mermaid_png()))\n",
    "    "
   ]
  },
  {
   "cell_type": "code",
   "execution_count": null,
   "id": "b3f5c710",
   "metadata": {},
   "outputs": [
    {
     "name": "stdout",
     "output_type": "stream",
     "text": [
      "================================\u001b[1m Human Message \u001b[0m=================================\n",
      "\n",
      "tell me about tamil language\n",
      "==================================\u001b[1m Ai Message \u001b[0m==================================\n",
      "Tool Calls:\n",
      "  wikipedia (fc_bd034a09-fc64-44c5-b260-ef215738feb3)\n",
      " Call ID: fc_bd034a09-fc64-44c5-b260-ef215738feb3\n",
      "  Args:\n",
      "    query: Tamil language\n",
      "=================================\u001b[1m Tool Message \u001b[0m=================================\n",
      "Name: wikipedia\n",
      "\n",
      "Page: Tamil language\n",
      "Summary: Tamil (தமிழ், Tamiḻ, pronounced [t̪amiɻ] , is a Dravidian language natively spoken by the Tamil people of South Asia. It is one of the longest-surviving classical languages in the world, attested since c. 300 BCE.\n",
      "Tamil was the lingua franca for early maritime traders in South India, with Tamil inscriptions found outside of the Indian subcontinent, such as Indonesia, Thailand, and Egypt. The language has a well-documented history with literary works like Sangam lite\n",
      "==================================\u001b[1m Ai Message \u001b[0m==================================\n",
      "\n",
      "**Tamil** (தமிழ்) is a major Dravidian language spoken by about 78 million people worldwide, primarily in the Indian state of **Tamil Nadu**, the union territory of **Karnataka**, **Kerala**, and **Goa**, as well as in **Sri Lanka**, **Singapore**, **Malaysia**, and among the Tamil diaspora in the Middle East, Europe, and the Americas.\n",
      "\n",
      "| Feature | Details |\n",
      "|---------|---------|\n",
      "| **Family** | Dravidian → Southern Dravidian |\n",
      "| **Script** | Tamil script (an abugida derived from Brahmi) |\n",
      "| **Status** | Official language in Tamil Nadu, Sri Lanka, Singapore; recognized as a classical language by the Indian government (since 2004) |\n",
      "| **Literary Tradition** | One of the world’s oldest continuous literary traditions. Early works from the **Sangam period** (c. 300 BCE–300 CE) include hymns, poems, and ethical treatises. |\n",
      "| **Phonology** | 12 vowels (including long/short distinctions) and 18 consonants. Notable for its retroflex consonants and the use of **schwa deletion** in many dialects. |\n",
      "| **Grammar** | Agglutinative; uses post‑positions, suffix‑based inflection for tense, aspect, mood, number, and case. |\n",
      "| **Modern Use** | • 1st‑language speakers: ~70 M (India) + 8 M (Sri Lanka) <br>• 2nd‑language speakers: >10 M <br>• Official language of 3 countries/regions |\n",
      "| **Cultural Significance** | Tamil cinema (Kollywood) is a major cultural force. The language has a strong presence in literature, music, philosophy (e.g., **Tirukkural**), and science (e.g., **Tirumandhiram**). |\n",
      "\n",
      "### Historical Highlights\n",
      "- **Sangam literature** (c. 300 BCE–300 CE) includes works like *Tiruvalluva Maalai* and the *Akananuru*.  \n",
      "- **Tamil inscriptions** have been found as far as **Indonesia**, **Thailand**, and **Egypt**, evidencing early maritime trade.  \n",
      "- The **Tamil Renaissance** (19th–20th century) produced figures like **Subramania Bharathi** and **K. A. N.** (K. A. N. Natarajan) who revitalized Tamil literature and nationalism.  \n",
      "- **Modern Tamil** is divided into **Classical (Old) Tamil**, **Medieval Tamil**, and **Modern (New) Tamil**, with the latter further split into **Colloquial** and **Standard** varieties.\n",
      "\n",
      "### Linguistic Features\n",
      "- **Agglutinative morphology**: words are formed by attaching multiple suffixes to a root.  \n",
      "- **Pronouns**: highly inflected for gender, number, and case.  \n",
      "- **Honorifics**: extensive system of respectful forms, especially in the **Tamil Nadu** dialect.  \n",
      "- **Writing system**: 12 vowels, 18 consonants, and 12 vowel signs; written **right‑to‑left**.\n",
      "\n",
      "### Contemporary Context\n",
      "- Tamil is one of the **sixteen scheduled languages of the Indian Constitution** and is taught in schools across India.  \n",
      "- **Digital presence**: Tamil is supported on major operating systems, browsers, and social media platforms.  \n",
      "- **Global diaspora**: Tamil communities maintain cultural and linguistic practices in countries such as the UK, Canada, and the United States.\n",
      "\n",
      "---\n",
      "\n",
      "**Quick facts**\n",
      "\n",
      "- **ISO codes**: ISO 639‑1: `ta`, ISO 639‑2: `tam`  \n",
      "- **Population**: ~78 million first‑language speakers  \n",
      "- **Classical status**: Declared by India in 2004 (one of 12 classical languages)  \n",
      "- **Notable works**: *Tirukkural*, *Thirukkural*, *Ainkurunuru*, *Manimekalai*  \n",
      "\n",
      "Feel free to ask if you’d like more details on any specific aspect—literature, grammar, history, or modern usage!\n",
      "*******************************\n",
      "================================\u001b[1m Human Message \u001b[0m=================================\n",
      "\n",
      "how old is?\n",
      "==================================\u001b[1m Ai Message \u001b[0m==================================\n",
      "\n",
      "I’m not sure who you’re referring to. Could you let me know the name or subject you’d like to know the age of?\n"
     ]
    }
   ],
   "source": [
    "#### if the below code throws an error, uncomment graph = graph_builder.compile()\n",
    "#### if you invoke with without memory saver the below example will not work (expected output will not get)\n",
    "messages = graph.invoke({\"messages\": \"tell me about tamil language\"});\n",
    "\n",
    "for msg in messages[\"messages\"]:\n",
    "    msg.pretty_print()\n",
    "\n",
    "#now we are invoking the llm with new session, so existing doesn't know,it will not answer\n",
    "messages = graph.invoke({\"messages\": \"how old is?\"});\n",
    "print(\"*******************************\")\n",
    "for msg in messages[\"messages\"]:\n",
    "    msg.pretty_print()"
   ]
  },
  {
   "cell_type": "code",
   "execution_count": null,
   "id": "a3cf7074",
   "metadata": {},
   "outputs": [
    {
     "name": "stdout",
     "output_type": "stream",
     "text": [
      "================================\u001b[1m Human Message \u001b[0m=================================\n",
      "\n",
      "tell me about tamil language\n",
      "==================================\u001b[1m Ai Message \u001b[0m==================================\n",
      "Tool Calls:\n",
      "  wikipedia (fc_3d1b8f04-4c75-4d55-8f79-11cd76d0aada)\n",
      " Call ID: fc_3d1b8f04-4c75-4d55-8f79-11cd76d0aada\n",
      "  Args:\n",
      "    query: Tamil language\n",
      "=================================\u001b[1m Tool Message \u001b[0m=================================\n",
      "Name: wikipedia\n",
      "\n",
      "Page: Tamil language\n",
      "Summary: Tamil (தமிழ், Tamiḻ, pronounced [t̪amiɻ] , is a Dravidian language natively spoken by the Tamil people of South Asia. It is one of the longest-surviving classical languages in the world, attested since c. 300 BCE.\n",
      "Tamil was the lingua franca for early maritime traders in South India, with Tamil inscriptions found outside of the Indian subcontinent, such as Indonesia, Thailand, and Egypt. The language has a well-documented history with literary works like Sangam lite\n",
      "==================================\u001b[1m Ai Message \u001b[0m==================================\n",
      "\n",
      "**Tamil** (தமிழ், *tamiḻ*) is a major Dravidian language with a history that stretches back over two millennia.  \n",
      "\n",
      "| Aspect | Details |\n",
      "|--------|---------|\n",
      "| **Geographic distribution** | Spoken by ~70 million people, primarily in the Indian state of Tamil Nadu and the union territory of Puducherry, as well as in Sri Lanka, Singapore, Malaysia, and diaspora communities worldwide. |\n",
      "| **Linguistic family** | Dravidian > Southern > Tamil‑Kannada. |\n",
      "| **Script** | The Tamil script, a syllabic alphabet that evolved from the Brahmi script. It has 12 vowels, 18 consonants, and 12 conjunct consonants, plus a set of diacritics. |\n",
      "| **Historical roots** | Tamil inscriptions date back to around 300 BCE, making it one of the world’s longest-surviving classical languages. It served as the lingua franca of early maritime traders in South India, with evidence of Tamil inscriptions found in Indonesia, Thailand, and even Egypt. |\n",
      "| **Literature** | The literary tradition began with the **Sangam literature** (c. 300 BCE–300 CE), a collection of poems on love, war, and ethics. The canon expanded over centuries, encompassing epics, devotional hymns (e.g., *Tirukkural*), and modern prose. |\n",
      "| **Official status** | Tamil is an official language of India (state of Tamil Nadu), Sri Lanka (official language), and Singapore (one of the four official languages). It is also recognized as a classical language by the Indian government. |\n",
      "| **Modern usage** | Widely used in education, media, film (Kollywood), and technology. Tamil has a rich digital presence, with Unicode support for its script and numerous online learning platforms. |\n",
      "\n",
      "**Key takeaways**\n",
      "\n",
      "- Tamil is a classical Dravidian language with an uninterrupted literary tradition spanning over 2,300 years.  \n",
      "- It has played a pivotal role in South Indian maritime trade and cultural exchange.  \n",
      "- Today it remains a vibrant language, both in its native regions and across the global Tamil diaspora.\n",
      "*******************************\n",
      "================================\u001b[1m Human Message \u001b[0m=================================\n",
      "\n",
      "tell me about tamil language\n",
      "==================================\u001b[1m Ai Message \u001b[0m==================================\n",
      "Tool Calls:\n",
      "  wikipedia (fc_3d1b8f04-4c75-4d55-8f79-11cd76d0aada)\n",
      " Call ID: fc_3d1b8f04-4c75-4d55-8f79-11cd76d0aada\n",
      "  Args:\n",
      "    query: Tamil language\n",
      "=================================\u001b[1m Tool Message \u001b[0m=================================\n",
      "Name: wikipedia\n",
      "\n",
      "Page: Tamil language\n",
      "Summary: Tamil (தமிழ், Tamiḻ, pronounced [t̪amiɻ] , is a Dravidian language natively spoken by the Tamil people of South Asia. It is one of the longest-surviving classical languages in the world, attested since c. 300 BCE.\n",
      "Tamil was the lingua franca for early maritime traders in South India, with Tamil inscriptions found outside of the Indian subcontinent, such as Indonesia, Thailand, and Egypt. The language has a well-documented history with literary works like Sangam lite\n",
      "==================================\u001b[1m Ai Message \u001b[0m==================================\n",
      "\n",
      "**Tamil** (தமிழ், *tamiḻ*) is a major Dravidian language with a history that stretches back over two millennia.  \n",
      "\n",
      "| Aspect | Details |\n",
      "|--------|---------|\n",
      "| **Geographic distribution** | Spoken by ~70 million people, primarily in the Indian state of Tamil Nadu and the union territory of Puducherry, as well as in Sri Lanka, Singapore, Malaysia, and diaspora communities worldwide. |\n",
      "| **Linguistic family** | Dravidian > Southern > Tamil‑Kannada. |\n",
      "| **Script** | The Tamil script, a syllabic alphabet that evolved from the Brahmi script. It has 12 vowels, 18 consonants, and 12 conjunct consonants, plus a set of diacritics. |\n",
      "| **Historical roots** | Tamil inscriptions date back to around 300 BCE, making it one of the world’s longest-surviving classical languages. It served as the lingua franca of early maritime traders in South India, with evidence of Tamil inscriptions found in Indonesia, Thailand, and even Egypt. |\n",
      "| **Literature** | The literary tradition began with the **Sangam literature** (c. 300 BCE–300 CE), a collection of poems on love, war, and ethics. The canon expanded over centuries, encompassing epics, devotional hymns (e.g., *Tirukkural*), and modern prose. |\n",
      "| **Official status** | Tamil is an official language of India (state of Tamil Nadu), Sri Lanka (official language), and Singapore (one of the four official languages). It is also recognized as a classical language by the Indian government. |\n",
      "| **Modern usage** | Widely used in education, media, film (Kollywood), and technology. Tamil has a rich digital presence, with Unicode support for its script and numerous online learning platforms. |\n",
      "\n",
      "**Key takeaways**\n",
      "\n",
      "- Tamil is a classical Dravidian language with an uninterrupted literary tradition spanning over 2,300 years.  \n",
      "- It has played a pivotal role in South Indian maritime trade and cultural exchange.  \n",
      "- Today it remains a vibrant language, both in its native regions and across the global Tamil diaspora.\n",
      "================================\u001b[1m Human Message \u001b[0m=================================\n",
      "\n",
      "how old is?\n",
      "==================================\u001b[1m Ai Message \u001b[0m==================================\n",
      "\n",
      "Tamil is one of the world’s oldest living languages.  \n",
      "\n",
      "- **Earliest attested records**: Inscriptions from the 3rd century BCE (about 2,300 years ago).  \n",
      "- **Continuous literary tradition**: From the Sangam poems (c. 300 BCE–300 CE) to modern prose and cinema, the language has been in continuous use for over two millennia.\n",
      "\n",
      "So, Tamil is roughly **2,300–2,400 years old** as a documented, spoken, and written language.\n"
     ]
    }
   ],
   "source": [
    "#### if the below code throws an error, uncomment (memory = MemorySaver() graph = graph_builder.compile(memory) )\n",
    "#### this will work just opposite to above example, the context will be shared for across the session based on session_id\n",
    "thread_id = \"session_001\"\n",
    "messages = graph.invoke({\"messages\": \"tell me about tamil language\"}, config={\"thread_id\": thread_id});\n",
    "\n",
    "for msg in messages[\"messages\"]:\n",
    "    msg.pretty_print()\n",
    "\n",
    "#now we are invoking the llm with new session, so existing doesn't know,it will not answer\n",
    "messages = graph.invoke({\"messages\": \"how old is?\"}, config={\"thread_id\": thread_id});\n",
    "print(\"*******************************\")\n",
    "for msg in messages[\"messages\"]:\n",
    "    msg.pretty_print()"
   ]
  },
  {
   "cell_type": "code",
   "execution_count": null,
   "id": "c37a7080",
   "metadata": {},
   "outputs": [],
   "source": []
  }
 ],
 "metadata": {
  "kernelspec": {
   "display_name": ".venv",
   "language": "python",
   "name": "python3"
  },
  "language_info": {
   "codemirror_mode": {
    "name": "ipython",
    "version": 3
   },
   "file_extension": ".py",
   "mimetype": "text/x-python",
   "name": "python",
   "nbconvert_exporter": "python",
   "pygments_lexer": "ipython3",
   "version": "3.13.4"
  }
 },
 "nbformat": 4,
 "nbformat_minor": 5
}
